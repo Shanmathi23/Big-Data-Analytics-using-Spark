{
 "cells": [
  {
   "cell_type": "code",
   "execution_count": 2,
   "metadata": {
    "collapsed": false
   },
   "outputs": [
    {
     "name": "stdout",
     "output_type": "stream",
     "text": [
      "stations_projections.pickle  STAT_TAVG_RANGE.pickle\r\n"
     ]
    }
   ],
   "source": [
    "import pickle\n",
    "import pandas as pd\n",
    "!ls *.pickle  # check "
   ]
  },
  {
   "cell_type": "code",
   "execution_count": 2,
   "metadata": {
    "collapsed": false
   },
   "outputs": [
    {
     "name": "stdout",
     "output_type": "stream",
     "text": [
      "  % Total    % Received % Xferd  Average Speed   Time    Time     Time  Current\n",
      "                                 Dload  Upload   Total   Spent    Left  Speed\n",
      "100 2750k  100 2750k    0     0   413k      0  0:00:06  0:00:06 --:--:--  468k\n"
     ]
    }
   ],
   "source": [
    "!curl -o \"stations_projections.pickle\" \"http://mas-dse-open.s3.amazonaws.com/Weather/stations_projections.pickle\"\n"
   ]
  },
  {
   "cell_type": "code",
   "execution_count": 3,
   "metadata": {
    "collapsed": false
   },
   "outputs": [
    {
     "name": "stdout",
     "output_type": "stream",
     "text": [
      "stations_projections.pickle  STAT_TAVG_RANGE.pickle\r\n"
     ]
    }
   ],
   "source": [
    "!ls *.pickle  # check "
   ]
  },
  {
   "cell_type": "code",
   "execution_count": 4,
   "metadata": {
    "collapsed": false
   },
   "outputs": [
    {
     "data": {
      "text/plain": [
       "(12140, 8)"
      ]
     },
     "execution_count": 4,
     "metadata": {},
     "output_type": "execute_result"
    }
   ],
   "source": [
    "data = pickle.load(open(\"stations_projections.pickle\",'r'))\n",
    "data.shape"
   ]
  },
  {
   "cell_type": "code",
   "execution_count": 5,
   "metadata": {
    "collapsed": false
   },
   "outputs": [
    {
     "data": {
      "text/html": [
       "<div>\n",
       "<table border=\"1\" class=\"dataframe\">\n",
       "  <thead>\n",
       "    <tr style=\"text-align: right;\">\n",
       "      <th></th>\n",
       "      <th>station</th>\n",
       "      <th>TAVG_coeff</th>\n",
       "      <th>TRANGE_coeff</th>\n",
       "      <th>SNWD_coeff</th>\n",
       "      <th>latitude</th>\n",
       "      <th>longitude</th>\n",
       "      <th>elevation</th>\n",
       "      <th>dist_coast</th>\n",
       "    </tr>\n",
       "  </thead>\n",
       "  <tbody>\n",
       "    <tr>\n",
       "      <th>0</th>\n",
       "      <td>USC00044534</td>\n",
       "      <td>[3047.96236332, 1974.34852034, 150.560792408]</td>\n",
       "      <td>[-2903.63287861, -236.907267527, 147.021790682]</td>\n",
       "      <td>[0.19150300062, 0.187262808215, -0.0401379552536]</td>\n",
       "      <td>36.0042</td>\n",
       "      <td>-119.9600</td>\n",
       "      <td>73.2</td>\n",
       "      <td>107.65500</td>\n",
       "    </tr>\n",
       "    <tr>\n",
       "      <th>1</th>\n",
       "      <td>USC00356784</td>\n",
       "      <td>[2072.14900342, 880.454658675, -19.4039657277]</td>\n",
       "      <td>[-1588.34406546, 22.0915925777, 53.9057098222]</td>\n",
       "      <td>[0.315437798531, 0.126292083873, 0.792078997215]</td>\n",
       "      <td>42.7519</td>\n",
       "      <td>-124.5011</td>\n",
       "      <td>12.8</td>\n",
       "      <td>0.61097</td>\n",
       "    </tr>\n",
       "  </tbody>\n",
       "</table>\n",
       "</div>"
      ],
      "text/plain": [
       "       station                                      TAVG_coeff  \\\n",
       "0  USC00044534   [3047.96236332, 1974.34852034, 150.560792408]   \n",
       "1  USC00356784  [2072.14900342, 880.454658675, -19.4039657277]   \n",
       "\n",
       "                                      TRANGE_coeff  \\\n",
       "0  [-2903.63287861, -236.907267527, 147.021790682]   \n",
       "1   [-1588.34406546, 22.0915925777, 53.9057098222]   \n",
       "\n",
       "                                          SNWD_coeff  latitude  longitude  \\\n",
       "0  [0.19150300062, 0.187262808215, -0.0401379552536]   36.0042  -119.9600   \n",
       "1   [0.315437798531, 0.126292083873, 0.792078997215]   42.7519  -124.5011   \n",
       "\n",
       "   elevation  dist_coast  \n",
       "0       73.2   107.65500  \n",
       "1       12.8     0.61097  "
      ]
     },
     "execution_count": 5,
     "metadata": {},
     "output_type": "execute_result"
    }
   ],
   "source": [
    "data.head(2)"
   ]
  },
  {
   "cell_type": "code",
   "execution_count": 6,
   "metadata": {
    "collapsed": false
   },
   "outputs": [
    {
     "data": {
      "text/html": [
       "<div>\n",
       "<table border=\"1\" class=\"dataframe\">\n",
       "  <thead>\n",
       "    <tr style=\"text-align: right;\">\n",
       "      <th></th>\n",
       "      <th>latitude</th>\n",
       "      <th>longitude</th>\n",
       "      <th>elevation</th>\n",
       "      <th>dist_coast</th>\n",
       "      <th>TAVG_coeff1</th>\n",
       "      <th>TAVG_coeff2</th>\n",
       "      <th>TAVG_coeff3</th>\n",
       "      <th>TRANGE_coeff1</th>\n",
       "      <th>TRANGE_coeff2</th>\n",
       "      <th>TRANGE_coeff3</th>\n",
       "      <th>SNWD_coeff1</th>\n",
       "      <th>SNWD_coeff2</th>\n",
       "      <th>SNWD_coeff3</th>\n",
       "    </tr>\n",
       "  </thead>\n",
       "  <tbody>\n",
       "    <tr>\n",
       "      <th>0</th>\n",
       "      <td>36.0042</td>\n",
       "      <td>-119.96</td>\n",
       "      <td>73.2</td>\n",
       "      <td>107.655</td>\n",
       "      <td>3047.962363</td>\n",
       "      <td>1974.34852</td>\n",
       "      <td>150.560792</td>\n",
       "      <td>-2903.632879</td>\n",
       "      <td>-236.907268</td>\n",
       "      <td>147.021791</td>\n",
       "      <td>0.191503</td>\n",
       "      <td>0.187263</td>\n",
       "      <td>-0.040138</td>\n",
       "    </tr>\n",
       "  </tbody>\n",
       "</table>\n",
       "</div>"
      ],
      "text/plain": [
       "   latitude  longitude  elevation  dist_coast  TAVG_coeff1  TAVG_coeff2  \\\n",
       "0   36.0042    -119.96       73.2     107.655  3047.962363   1974.34852   \n",
       "\n",
       "   TAVG_coeff3  TRANGE_coeff1  TRANGE_coeff2  TRANGE_coeff3  SNWD_coeff1  \\\n",
       "0   150.560792   -2903.632879    -236.907268     147.021791     0.191503   \n",
       "\n",
       "   SNWD_coeff2  SNWD_coeff3  \n",
       "0     0.187263    -0.040138  "
      ]
     },
     "execution_count": 6,
     "metadata": {},
     "output_type": "execute_result"
    }
   ],
   "source": [
    "# break up the lists of coefficients separate columns\n",
    "for col in [u'TAVG_coeff', u'TRANGE_coeff', u'SNWD_coeff']:\n",
    "    for i in range(3):\n",
    "        new_col=col+str(i+1)\n",
    "        data[new_col]=[e[i] for e in list(data[col])]\n",
    "    data.drop(labels=col,axis=1,inplace=True)\n",
    "data.drop(labels='station',axis=1,inplace=True)\n",
    "data.head(1)"
   ]
  },
  {
   "cell_type": "code",
   "execution_count": 7,
   "metadata": {
    "collapsed": false
   },
   "outputs": [],
   "source": [
    "from sklearn.linear_model import LinearRegression\n",
    "\n",
    "# Compute score changes\n",
    "def compute_scores(y_label,X_Train,y_Train,X_test,Y_test):\n",
    "    lg = LinearRegression()\n",
    "    lg.fit(X_Train,y_Train)\n",
    "\n",
    "    train_score = lg.score(X_Train,y_Train)\n",
    "    test_score = lg.score(X_test,Y_test)\n",
    "    print('R-squared(Coeff. of determination): Train:%.3f, Test:%.3f\\n' % (train_score,test_score))\n",
    "\n",
    "    full=set(range(X_Train.shape[1]))\n",
    "    for i in range(X_Train.shape[1]):\n",
    "        #L=list(......)  # fill in\n",
    "        L = list(full-set([i]))\n",
    "        L.sort()\n",
    "        r_train_X=X_Train[:,L]\n",
    "        r_test_X=X_test[:,L]\n",
    "        \n",
    "        lg = LinearRegression()\n",
    "        lg.fit(r_train_X,y_Train)\n",
    "        r_train_score = lg.score(r_train_X,y_Train)\n",
    "        r_test_score  = lg.score(r_test_X,Y_test)\n",
    "        #if (train_score-r_train_score)>=0.08 and (test_score-r_test_score)>=0.08 :\n",
    "        print \"removed\",data.columns[i],\n",
    "        print \"Score decrease: \\tTrain:%5.3f\" % (train_score-r_train_score),\n",
    "        print \"\\tTest: %5.3f \" % (test_score-r_test_score)"
   ]
  },
  {
   "cell_type": "code",
   "execution_count": 8,
   "metadata": {
    "collapsed": false
   },
   "outputs": [
    {
     "name": "stdout",
     "output_type": "stream",
     "text": [
      "(12140, 13) (5956, 13) (6184, 13)\n"
     ]
    }
   ],
   "source": [
    "from numpy.random import rand\n",
    "N=data.shape[0]\n",
    "train_i = rand(N)>0.5\n",
    "Train = data.ix[train_i,:]\n",
    "Test = data.ix[~train_i,:]\n",
    "print data.shape,Train.shape,Test.shape"
   ]
  },
  {
   "cell_type": "code",
   "execution_count": 9,
   "metadata": {
    "collapsed": false,
    "scrolled": true
   },
   "outputs": [
    {
     "name": "stdout",
     "output_type": "stream",
     "text": [
      "\n",
      "Target variable:  TAVG_coeff1 ########################################\n",
      "Coeffs:  latitude:-153.68  longitude:-19.07  elevation:-0.66  dist_coast:-0.15 \n",
      "R-squared(Coeff. of determination): Train:0.931, Test:0.931\n",
      "\n",
      "removed latitude Score decrease: \tTrain:0.601 \tTest: 0.623 \n",
      "removed longitude Score decrease: \tTrain:0.064 \tTest: 0.070 \n",
      "removed elevation Score decrease: \tTrain:0.123 \tTest: 0.126 \n",
      "removed dist_coast Score decrease: \tTrain:0.003 \tTest: 0.003 \n",
      "\n",
      "Target variable:  TAVG_coeff2 ########################################\n",
      "Coeffs:  latitude:-4.71  longitude: 7.33  elevation:-0.15  dist_coast: 0.47 \n",
      "R-squared(Coeff. of determination): Train:0.597, Test:0.591\n",
      "\n",
      "removed latitude Score decrease: \tTrain:0.007 \tTest: 0.007 \n",
      "removed longitude Score decrease: \tTrain:0.113 \tTest: 0.118 \n",
      "removed elevation Score decrease: \tTrain:0.077 \tTest: 0.058 \n",
      "removed dist_coast Score decrease: \tTrain:0.388 \tTest: 0.385 \n",
      "\n",
      "Target variable:  TAVG_coeff3 ########################################\n",
      "Coeffs:  latitude:-4.20  longitude:-2.77  elevation: 0.00  dist_coast: 0.07 \n",
      "R-squared(Coeff. of determination): Train:0.417, Test:0.400\n",
      "\n",
      "removed latitude Score decrease: \tTrain:0.053 \tTest: 0.045 \n",
      "removed longitude Score decrease: \tTrain:0.160 \tTest: 0.153 \n",
      "removed elevation Score decrease: \tTrain:0.001 \tTest: 0.002 \n",
      "removed dist_coast Score decrease: \tTrain:0.093 \tTest: 0.084 \n",
      "\n",
      "Target variable:  TRANGE_coeff1 ########################################\n",
      "Coeffs:  latitude:23.63  longitude: 9.49  elevation:-0.32  dist_coast:-0.17 \n",
      "R-squared(Coeff. of determination): Train:0.462, Test:0.451\n",
      "\n",
      "removed latitude Score decrease: \tTrain:0.054 \tTest: 0.054 \n",
      "removed longitude Score decrease: \tTrain:0.060 \tTest: 0.039 \n",
      "removed elevation Score decrease: \tTrain:0.109 \tTest: 0.130 \n",
      "removed dist_coast Score decrease: \tTrain:0.015 \tTest: 0.012 \n",
      "\n",
      "Target variable:  TRANGE_coeff2 ########################################\n",
      "Coeffs:  latitude:-32.23  longitude: 6.21  elevation:-0.01  dist_coast: 0.14 \n",
      "R-squared(Coeff. of determination): Train:0.654, Test:0.637\n",
      "\n",
      "removed latitude Score decrease: \tTrain:0.463 \tTest: 0.452 \n",
      "removed longitude Score decrease: \tTrain:0.118 \tTest: 0.099 \n",
      "removed elevation Score decrease: \tTrain:0.001 \tTest: 0.001 \n",
      "removed dist_coast Score decrease: \tTrain:0.048 \tTest: 0.041 \n",
      "\n",
      "Target variable:  TRANGE_coeff3 ########################################\n",
      "Coeffs:  latitude: 3.98  longitude: 1.55  elevation: 0.04  dist_coast:-0.04 \n",
      "R-squared(Coeff. of determination): Train:0.130, Test:0.066\n",
      "\n",
      "removed latitude Score decrease: \tTrain:0.056 \tTest: 0.027 \n",
      "removed longitude Score decrease: \tTrain:0.059 \tTest: 0.035 \n",
      "removed elevation Score decrease: \tTrain:0.058 \tTest: 0.034 \n",
      "removed dist_coast Score decrease: \tTrain:0.031 \tTest: 0.014 \n",
      "\n",
      "Target variable:  SNWD_coeff1 ########################################\n",
      "Coeffs:  latitude:151.84  longitude:23.74  elevation: 1.17  dist_coast:-0.93 \n",
      "R-squared(Coeff. of determination): Train:0.247, Test:0.224\n",
      "\n",
      "removed latitude Score decrease: \tTrain:0.154 \tTest: 0.155 \n",
      "removed longitude Score decrease: \tTrain:0.026 \tTest: 0.022 \n",
      "removed elevation Score decrease: \tTrain:0.101 \tTest: 0.087 \n",
      "removed dist_coast Score decrease: \tTrain:0.033 \tTest: 0.031 \n",
      "\n",
      "Target variable:  SNWD_coeff2 ########################################\n",
      "Coeffs:  latitude: 1.41  longitude:-1.84  elevation:-0.25  dist_coast: 0.25 \n",
      "R-squared(Coeff. of determination): Train:0.075, Test:0.053\n",
      "\n",
      "removed latitude Score decrease: \tTrain:0.000 \tTest: -0.000 \n",
      "removed longitude Score decrease: \tTrain:0.002 \tTest: -0.001 \n",
      "removed elevation Score decrease: \tTrain:0.058 \tTest: 0.034 \n",
      "removed dist_coast Score decrease: \tTrain:0.031 \tTest: 0.029 \n",
      "\n",
      "Target variable:  SNWD_coeff3 ########################################\n",
      "Coeffs:  latitude: 7.97  longitude: 0.43  elevation: 0.09  dist_coast: 0.01 \n",
      "R-squared(Coeff. of determination): Train:0.139, Test:0.129\n",
      "\n",
      "removed latitude Score decrease: \tTrain:0.038 \tTest: 0.043 \n",
      "removed longitude Score decrease: \tTrain:0.001 \tTest: 0.000 \n",
      "removed elevation Score decrease: \tTrain:0.054 \tTest: 0.043 \n",
      "removed dist_coast Score decrease: \tTrain:0.000 \tTest: 0.000 \n"
     ]
    }
   ],
   "source": [
    "from sklearn.cross_validation import train_test_split\n",
    "\n",
    "train_X = Train.ix[:,:4].values\n",
    "test_X=Test.ix[:,:4].values\n",
    "input_names=list(data.columns[:4])\n",
    "\n",
    "for target in [\"TAVG\",\"TRANGE\",\"SNWD\"]:\n",
    "    for j in range(1,4):\n",
    "        y_label = target+\"_coeff\"+str(j)\n",
    "        train_y = Train[y_label]\n",
    "        test_y = Test[y_label]\n",
    "        lg = LinearRegression()\n",
    "        lg.fit(train_X,train_y)\n",
    "\n",
    "        print \"\\nTarget variable: \", y_label, '#'*40\n",
    "        print \"Coeffs: \",\\\n",
    "            ' '.join(['%s:%5.2f ' % (input_names[i],lg.coef_[i]) for i in range(len(lg.coef_))])\n",
    "        \n",
    "        compute_scores(y_label, train_X, train_y, test_X, test_y)"
   ]
  },
  {
   "cell_type": "code",
   "execution_count": null,
   "metadata": {
    "collapsed": true
   },
   "outputs": [],
   "source": [
    "Interpretations\n",
    "\n",
    "#Eigen Vectors description\n",
    "\n",
    "1.TAVG_coeff1: Average temperature across the year\n",
    "2.TAVG_coeff2: Difference in temperature between summer and winter\n",
    "3.TAVG_coeff3: Difference in temperature between spring and fall\n",
    "4.TRANGE_coeff1: Average temperature range across the year\n",
    "5.TRANGE_coeff2: Difference in temperature range between summer and winter\n",
    "6.SNWD_coeff1: Amount of Snowfall received across the year or Average snow depth across the year\n",
    "    \n",
    "#Relation to Input variables description\n",
    "\n",
    "1.Locations with high latitude are colder\n",
    "2.Locations with higher elevation are colder\n",
    "3.Locations with lower longitude have lower difference in temperature between summer and winter\n",
    "4.As the distance from coast increases, there is higher difference in temperature between between summer and winter\n",
    "5.Locations with high longitude have lower difference in temperature between spring and fall\n",
    "6.Locations with higher distance from coast have higher temperature difference between spring and fall \n",
    "7.As elevation of the location increases, the average temperature range decreases \n",
    "8.Locations with higher latitudes have lower difference in temperature range between summer and winter \n",
    "9.Locations with higher latitudes have high snowfall, hence increase in snow depth"
   ]
  },
  {
   "cell_type": "code",
   "execution_count": 114,
   "metadata": {
    "collapsed": false
   },
   "outputs": [
    {
     "name": "stdout",
     "output_type": "stream",
     "text": [
      "  % Total    % Received % Xferd  Average Speed   Time    Time     Time  Current\n",
      "                                 Dload  Upload   Total   Spent    Left  Speed\n",
      "100 25.6M  100 25.6M    0     0   985k      0  0:00:26  0:00:26 --:--:-- 1044k\n"
     ]
    }
   ],
   "source": [
    "!curl -o \"STAT_TAVG_RANGE.pickle\" \"http://mas-dse-open.s3.amazonaws.com/Weather/STAT_TAVG_RANGE.pickle\""
   ]
  },
  {
   "cell_type": "code",
   "execution_count": 36,
   "metadata": {
    "collapsed": false,
    "scrolled": false
   },
   "outputs": [],
   "source": [
    "temp_data =  pickle.load(open(\"STAT_TAVG_RANGE.pickle\",'r'))\n",
    "#print temp_data"
   ]
  },
  {
   "cell_type": "code",
   "execution_count": 33,
   "metadata": {
    "collapsed": false
   },
   "outputs": [],
   "source": [
    "S=temp_data[0]\n",
    "#print type(S)\n",
    "TAVG = S['TAVG']['eigvec']\n",
    "TRANGE=S['TRANGE']['eigvec']"
   ]
  },
  {
   "cell_type": "code",
   "execution_count": 20,
   "metadata": {
    "collapsed": false
   },
   "outputs": [
    {
     "name": "stdout",
     "output_type": "stream",
     "text": [
      "Populating the interactive namespace from numpy and matplotlib\n"
     ]
    },
    {
     "name": "stderr",
     "output_type": "stream",
     "text": [
      "WARNING: pylab import has clobbered these variables: ['e']\n",
      "`%matplotlib` prevents importing * from pylab and numpy\n"
     ]
    }
   ],
   "source": [
    "%pylab inline\n",
    "%matplotlib inline"
   ]
  },
  {
   "cell_type": "code",
   "execution_count": 21,
   "metadata": {
    "collapsed": true
   },
   "outputs": [],
   "source": [
    "import matplotlib.pyplot as plt\n",
    "import numpy as np\n",
    "\n",
    "def YearlyPlots(T,ttl='',yl='',xl='',y=None,x=None,size=(10,7), c=None):\n",
    "    yearday=[i for i in range(1,366)]\n",
    "    fig=figure(1,figsize=size,dpi=300)\n",
    "    if shape(T)[0] != 365:\n",
    "        raise ValueError(\"First dimension of T should be 365. Shape(T)=\"+str(shape(T)))\n",
    "    if c is not None:\n",
    "        plot_date(yearday,T, '-',color=c);\n",
    "        plt.gca().xaxis.set_major_formatter( DateFormatter('%b') )\n",
    "          \n",
    "    else:\n",
    "        plot_date(yearday,T, '-', );\n",
    "    # rotate and align the tick labels so they look better\n",
    "        fig.autofmt_xdate()\n",
    "        \n",
    "    ylabel(yl)\n",
    "    xlabel(xl)\n",
    "    if y is not None:\n",
    "        ylim(y)\n",
    "    if x is not None:\n",
    "        xlim(x)\n",
    "    grid()\n",
    "    title(ttl)"
   ]
  },
  {
   "cell_type": "code",
   "execution_count": 35,
   "metadata": {
    "collapsed": false,
    "scrolled": true
   },
   "outputs": [
    {
     "data": {
      "image/png": "[encoded data removed]",
      "text/plain": [
       "<matplotlib.figure.Figure at 0x7fc8bc20ca90>"
      ]
     },
     "metadata": {},
     "output_type": "display_data"
    }
   ],
   "source": [
    "import matplotlib.pyplot as plt\n",
    "import numpy as np\n",
    "fig = plt.figure(figsize=(15,30))\n",
    "offset=1\n",
    "plt.subplot(6,3,offset)\n",
    "offset+=1\n",
    "\n",
    "## Your code for top-3 TAVG eigenvectors\n",
    "top1=[]\n",
    "top2=[]\n",
    "top3=[]\n",
    "for i in range(0,365):\n",
    "    top1.append(TAVG[i][0])\n",
    "    top2.append(TAVG[i][1])\n",
    "    top3.append(TAVG[i][2])\n",
    "Arr1=array(top1)\n",
    "Arr2=array(top2)\n",
    "Arr3=array(top3)\n",
    "YearlyPlots(Arr1,ttl='TAVG Top 3 eigenVecs',yl='',xl='',y=None,x=None,size=(10,7), c='r')\n",
    "YearlyPlots(Arr2,ttl='TAVG Top 3 eigenVecs',yl='',xl='',y=None,x=None,size=(10,7), c='g')\n",
    "YearlyPlots(Arr3,ttl='TAVG Top 3 eigenVecs',yl='',xl='',y=None,x=None,size=(10,7), c='b') \n",
    "\n",
    "subplot(6,3,offset)\n",
    "offset+=1\n",
    "\n",
    "## Your code for top-3 TRANGE eigenvectors\n",
    "top1=[]\n",
    "top2=[]\n",
    "top3=[]\n",
    "for i in range(0,365):\n",
    "    top1.append(TRANGE[i][0])\n",
    "    top2.append(TRANGE[i][1])\n",
    "    top3.append(TRANGE[i][2])\n",
    "Arr1=array(top1)\n",
    "Arr2=array(top2)\n",
    "Arr3=array(top3)\n",
    "YearlyPlots(Arr1,ttl='TRANGE Top 3 eigenVecs',yl='',xl='',y=None,x=None,size=(10,7), c='r')\n",
    "YearlyPlots(Arr2,ttl='TRANGE Top 3 eigenVecs',yl='',xl='',y=None,x=None,size=(10,7), c='g')\n",
    "YearlyPlots(Arr3,ttl='TRANGE Top 3 eigenVecs',yl='',xl='',y=None,x=None,size=(10,7), c='b') "
   ]
  },
  {
   "cell_type": "code",
   "execution_count": null,
   "metadata": {
    "collapsed": true
   },
   "outputs": [],
   "source": [
    "Interpretations\n",
    "\n",
    "#Eigen Vectors description\n",
    "\n",
    "1.TAVG_coeff1: Average temperature across the year\n",
    "2.TAVG_coeff2: Difference in temperature between summer and winter\n",
    "3.TAVG_coeff3: Difference in temperature between spring and fall\n",
    "4.TRANGE_coeff1: Average temperature range across the year\n",
    "5.TRANGE_coeff2: Difference in temperature range between summer and winter\n",
    "6.SNWD_coeff1: Amount of Snowfall received across the year or Average snow depth across the year\n",
    "    \n",
    "#Relation to Input variables description\n",
    "\n",
    "1.Locations with high latitude are colder\n",
    "2.Locations with higher elevation are colder\n",
    "3.Locations with lower longitude have lower difference in temperature between summer and winter\n",
    "4.As the distance from coast increases, there is higher difference in temperature between between summer and winter\n",
    "5.Locations with high longitude have lower difference in temperature between spring and fall\n",
    "6.Locations with higher distance from coast have higher temperature difference between spring and fall \n",
    "7.As elevation of the location increases, the average temperature range decreases \n",
    "8.Locations with higher latitudes have lower difference in temperature range between summer and winter \n",
    "9.Locations with higher latitudes have high snowfall, hence increase in snow depth\n"
   ]
  }
 ],
 "metadata": {
  "kernelspec": {
   "display_name": "Python 2",
   "language": "python",
   "name": "python2"
  },
  "language_info": {
   "codemirror_mode": {
    "name": "ipython",
    "version": 2
   },
   "file_extension": ".py",
   "mimetype": "text/x-python",
   "name": "python",
   "nbconvert_exporter": "python",
   "pygments_lexer": "ipython2",
   "version": "2.7.11"
  }
 },
 "nbformat": 4,
 "nbformat_minor": 0
}
